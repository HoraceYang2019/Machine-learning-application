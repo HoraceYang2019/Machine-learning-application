{
 "cells": [
  {
   "cell_type": "markdown",
   "id": "0cec48c7",
   "metadata": {},
   "source": [
    "https://terenceshin.medium.com/all-machine-learning-algorithms-you-should-know-for-2023-843dba11419c"
   ]
  },
  {
   "cell_type": "markdown",
   "id": "74e403ba",
   "metadata": {},
   "source": [
    "1. Explanatory algorithms\n",
    "2. Pattern mining algorithms\n",
    "3. Ensemble learning algorithms\n",
    "4. Clustering algorithms\n",
    "5. Time series algorithms\n",
    "6. Similarity algorithms"
   ]
  },
  {
   "cell_type": "markdown",
   "id": "52b951ba",
   "metadata": {},
   "source": [
    "### 1. Explanatory Algorithms <br>\n",
    "    *One of the biggest problems in machine learning is understanding how various models get to their end predictions. We often know the “what” but struggle to explain the “why”.\n",
    "\n",
    "    *Explanatory algorithms help us identify the variables that have a meaningful impact on the outcome we are interested in. These algorithms allow us to understand the relationships between the variables in the model, rather than just using the model to make predictions about the outcome.\n",
    "\n",
    "    *There are several algorithms that you can use to better understand the relationships between the independent variables and the dependent variable for a given model."
   ]
  },
  {
   "cell_type": "markdown",
   "id": "92717b40",
   "metadata": {},
   "source": [
    "    1. Linear/Logistic Regression: a statistical method for modeling the linear relationship between a dependent variable and one or more independent variables — can be used to understand the relationships between variables based on the t-tests and coefficients.\n",
    "    \n",
    "    2. Decision Trees: a type of machine learning algorithm that creates a tree-like model of decisions and their possible consequences. They are useful for understanding the relationships between variables by looking at the rules that split the branches.\n",
    "    \n",
    "    3. Principal Component Analysis (PCA): a dimensionality reduction technique that projects the data onto a lower-dimensional space while retaining as much variance as possible. PCA can be used to simplify the data or to determine feature importance.\n",
    "    \n",
    "    4. Local Interpretable Model-Agnostic Explanations (LIME): an algorithm that explains the predictions of any machine learning model by approximating the model locally around the prediction by constructing a simpler model using techniques such as linear regression or decision trees.\n",
    "    \n",
    "    5. Shapley Additive explanations (SHAPLEY): an algorithm that explains the predictions of any machine learning model by computing the contribution of each feature to the prediction using a method based on the concept of “marginal contribution.”. It can be more accurate than SHAP in some cases.\n",
    "    \n",
    "    6. Shapley Approximation (SHAP): a method for explaining the predictions of any machine learning model by estimating the importance of each feature in the prediction. SHAP uses a method called the “coalitional game” method to approximate Shapley values and is generally faster than SHAPLEY.\n"
   ]
  },
  {
   "cell_type": "markdown",
   "id": "48bc032a",
   "metadata": {},
   "source": [
    "### 2. Pattern Mining Algorithms\n",
    "Pattern mining algorithms are a type of data mining technique that are used to identify patterns and relationships within a dataset. These algorithms can be used for a variety of purposes, such as identifying customer buying patterns in a retail context, understanding common user behaviour sequences for a website/app, or finding relationships between different variables in a scientific study.\n",
    "\n",
    "Pattern mining algorithms typically work by analyzing large datasets and looking for repeated patterns or associations between variables. Once these patterns have been identified, they can be used to make predictions about future trends or outcomes or to understand the underlying relationships within the data.\n",
    "\n",
    "Algorithms\n",
    "Apriori algorithm: an algorithm for finding frequent item sets in a transactional database — it’s efficient and widely used for association rule mining tasks.\n",
    "Recurrent Neural Network (RNN): a type of neural network that is designed to process sequential data as they are able to capture temporal dependencies in the data.\n",
    "Long Short-Term Memory (LSTM): a type of recurrent neural network that is designed to remember information for longer periods of time. LSTMs are able to capture longer-term dependencies in the data and are often used for tasks such as language translation and language generation.\n",
    "Sequential Pattern Discovery Using Equivalence Class (SPADE): a method for finding frequent patterns in sequential data by grouping together items that are equivalent in some sense. This method is able to handle large datasets and is relatively efficient, but may not work well with sparse data.\n",
    "PrefixSpan: an algorithm for finding frequent patterns in sequential data by constructing a prefix tree and pruning infrequent items. PrefixScan is able to handle large datasets and is relatively efficient, but may not work well with sparse data.\n",
    "If you enjoy this article and want to support me, Subscribe and become a member today to never miss another article on data science guides, tricks and tips, life lessons, and more!"
   ]
  },
  {
   "cell_type": "markdown",
   "id": "9b533534-85d7-455b-aaad-a88c5bf94f01",
   "metadata": {},
   "source": [
    "### 3. Ensemble Learning\n",
    "\n",
    "Image created by Author\n",
    "Ensemble algorithms are machine learning techniques that combine the predictions of multiple models in order to make more accurate predictions than any of the individual models. There are several reasons why ensemble algorithms can outperform traditional machine learning algorithms:\n",
    "\n",
    "Diversity: By combining the predictions of multiple models, ensemble algorithms can capture a wider range of patterns within the data.\n",
    "Robustness: Ensemble algorithms are generally less sensitive to noise and outliers in the data, which can lead to more stable and reliable predictions.\n",
    "Reducing overfitting: By averaging the predictions of multiple models, ensemble algorithms can reduce the tendency of individual models to overfit the training data, which can lead to improved generalization to new data.\n",
    "Improved accuracy: Ensemble algorithms have been shown to consistently outperform traditional machine learning algorithms in a variety of contexts.\n",
    "Algorithms\n",
    "Random Forest: a machine learning algorithm that creates an ensemble of decision trees and makes predictions based on the majority vote of the trees.\n",
    "XGBoost: a type of gradient boosting algorithm that uses decision trees as its base model and is known to be one of the strongest ML algorithms for predictions.\n",
    "LightGBM: another type of gradient boosting algorithm that is designed to be faster and more efficient than other boosting algorithms.\n",
    "CatBoost: A type of gradient boosting algorithm that is specifically designed to handle categorical variables well."
   ]
  },
  {
   "cell_type": "markdown",
   "id": "9175dc61-a0b5-4590-8253-22570daefa4c",
   "metadata": {},
   "source": [
    "### 4. Clustering\n",
    "\n",
    "Image created by Author\n",
    "Clustering algorithms are an unsupervised learning task and are used to group data into “clusters”. In contrast to supervised learning, where the target variable is known, there is no target variable in clustering.\n",
    "\n",
    "This technique is useful for finding natural patterns and trends in data and is often used during the exploratory data analysis phase to gain further understanding of the data. Additionally, clustering can be used to divide a dataset into distinct segments based on various variables. A common application of this is in segmenting customers or users.\n",
    "\n",
    "Algorithms\n",
    "K-mode clustering: a clustering algorithm that is specifically designed for categorical data. It is able to handle high-dimensional categorical data well and is relatively simple to implement.\n",
    "DBSCAN: A density-based clustering algorithm that is able to identify clusters of arbitrary shape. It is relatively robust to noise and can identify outliers in the data.\n",
    "Spectral clustering: A clustering algorithm that uses the eigenvectors of a similarity matrix to group data points into clusters. It is able to handle non-linearly separable data and is relatively efficient."
   ]
  },
  {
   "cell_type": "markdown",
   "id": "ffd34014-9a55-4235-a7eb-a9c683f01423",
   "metadata": {},
   "source": [
    "### 5. Time Series Algorithms\n",
    "\n",
    "Image created by Author\n",
    "Time series algorithms are techniques used to analyze time-dependent data. These algorithms take into account the temporal dependencies among the data points in a series, which is especially important when trying to make predictions about future values.\n",
    "\n",
    "Time series algorithms are used in a variety of business applications, such as predicting demand for a product, forecasting sales, or analyzing customer behaviour over time. They can also be used to detect anomalies or changes in trends in the data.\n",
    "\n",
    "Algorithms\n",
    "Prophet time series modelling: A time series forecasting algorithm developed by Facebook that is designed to be intuitive and easy to use. Some of its key strengths include handling missing data and trend changes, being robust to outliers, and being fast to fit.\n",
    "Autoregressive Integrated Moving Average (ARIMA): A statistical method for forecasting time series data that models the correlation between the data and its lagged values. ARIMA can handle a wide range of time series data but can be more difficult to implement than some other methods.\n",
    "Exponential smoothing: a method for forecasting time series data that uses a weighted average of past data to make predictions. Exponential smoothing is relatively simple to implement and can be used with a wide range of data, but may not perform as well as more sophisticated methods."
   ]
  },
  {
   "cell_type": "markdown",
   "id": "0f5c55da-7a49-413c-9ea7-75e5d39675e2",
   "metadata": {},
   "source": [
    "### 6. Similarity Algorithms\n",
    "\n",
    "Image created by Author\n",
    "Similarity algorithms are used to measure the similarity between pairs of records, nodes, data points, or text. These algorithms can be based on the distance between two data points (e.g. Euclidean distance) or on the similarity of text (e.g. Levenshtein Algorithm).\n",
    "\n",
    "These algorithms have a wide range of applications, but are particularly useful in the context of recommendations. They can be used to identify similar items or suggest related content to users.\n",
    "\n",
    "Algorithms\n",
    "Euclidean Distance: a measure of the straight-line distance between two points in a Euclidean space. Euclidean distance is simple to calculate and is widely used in machine learning, but may not be the best choice in situations where the data is not uniformly distributed.\n",
    "Cosine Similarity: a measure of similarity between two vectors based on the angle between them.\n",
    "Levenshtein Algorithm: an algorithm for measuring the distance between two strings, based on the minimum number of single-character edits (insertions, deletions, or substitutions) required to transform one string into the other. The Levenshtein algorithm is commonly used for spell-checking and string matching tasks.\n",
    "Jaro-Winkler Algorithm: an algorithm for measuring the similarity between two strings, based on the number of matching characters and the number of transpositions. It’s similar to the Levenshtein algorithm and is often used for record linkage and entity resolution tasks.\n",
    "Singular Value Decomposition (SVD): a matrix decomposition method that decomposes a matrix into a product of three matrices — it’s an integral component for state-of-the-art recommendation systems."
   ]
  },
  {
   "cell_type": "code",
   "execution_count": null,
   "id": "ba0ef956",
   "metadata": {},
   "outputs": [],
   "source": []
  }
 ],
 "metadata": {
  "kernelspec": {
   "display_name": "Python 3 (ipykernel)",
   "language": "python",
   "name": "python3"
  },
  "language_info": {
   "codemirror_mode": {
    "name": "ipython",
    "version": 3
   },
   "file_extension": ".py",
   "mimetype": "text/x-python",
   "name": "python",
   "nbconvert_exporter": "python",
   "pygments_lexer": "ipython3",
   "version": "3.10.14"
  }
 },
 "nbformat": 4,
 "nbformat_minor": 5
}
