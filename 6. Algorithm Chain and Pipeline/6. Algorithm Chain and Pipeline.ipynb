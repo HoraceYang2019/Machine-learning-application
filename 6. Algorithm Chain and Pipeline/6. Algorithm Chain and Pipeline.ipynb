{
 "cells": [
  {
   "cell_type": "markdown",
   "id": "95d0861b",
   "metadata": {},
   "source": [
    "## 6. Algorithm Chain and Pipeline"
   ]
  },
  {
   "cell_type": "markdown",
   "id": "9c2652e4",
   "metadata": {},
   "source": [
    "### Say Goodbye to Loops in Python, and Welcome Vectorization!\n",
    "https://medium.com/codex/say-goodbye-to-loops-in-python-and-welcome-vectorization-e4df66615a52"
   ]
  },
  {
   "cell_type": "markdown",
   "id": "044be294",
   "metadata": {},
   "source": [
    "### Don’t Run Loops in Python, Instead, Use These!\n",
    "https://medium.com/@theanup/dont-run-loops-in-python-instead-use-these-557ccc3c73ee"
   ]
  },
  {
   "cell_type": "markdown",
   "id": "e8df06cd",
   "metadata": {},
   "source": [
    "### Pipleine\n",
    "The pipeline is a Python scikit-learn utility for orchestrating machine learning operations.\n",
    "\n",
    "Pipelines function by allowing a linear series of data transforms to be linked together, resulting in a measurable modeling process."
   ]
  },
  {
   "cell_type": "markdown",
   "id": "d85e7577",
   "metadata": {},
   "source": [
    "### Building a Machine Learning Pipeline with Scikit-Learn\n",
    "https://github.com/ezgigm/Project3_TanzanianWaterWell_Status_Prediction"
   ]
  },
  {
   "cell_type": "markdown",
   "id": "5f3f50fd",
   "metadata": {},
   "source": [
    "### How to Quickly Design Advanced Sklearn Pipelines\n",
    "https://towardsdatascience.com/how-to-quickly-design-advanced-sklearn-pipelines-3cc97b59ce16"
   ]
  },
  {
   "cell_type": "markdown",
   "id": "4d9fa41d",
   "metadata": {},
   "source": [
    "#### Importing Libraries\n",
    "Creating a pipeline requires lots of import packages to be loaded into the system. Remember, you need to install and configure all these python packages beforehand in order to use them in the program."
   ]
  },
  {
   "cell_type": "code",
   "execution_count": 1,
   "id": "5e254ee4",
   "metadata": {},
   "outputs": [],
   "source": [
    "# Create a pipeline that extracts features from the data then creates a model\n",
    "from sklearn.linear_model import LogisticRegression\n",
    "from sklearn.decomposition import PCA\n",
    "from sklearn.feature_selection import SelectKBest\n",
    "from pandas import read_csv\n",
    "from sklearn.model_selection import KFold\n",
    "from sklearn.model_selection import cross_val_score\n",
    "from sklearn.pipeline import Pipeline\n",
    "from sklearn.pipeline import FeatureUnion"
   ]
  },
  {
   "cell_type": "markdown",
   "id": "c8fa0480",
   "metadata": {},
   "source": [
    "#### Loading of data\n",
    "In this example, will be fetching data from a public domain containing information of people suffering from diabetes. We will be using this database to train our pipeline."
   ]
  },
  {
   "cell_type": "code",
   "execution_count": 2,
   "id": "b78863f0",
   "metadata": {},
   "outputs": [],
   "source": [
    "from sklearn import datasets\n",
    "from sklearn.model_selection import train_test_split\n",
    "from sklearn.preprocessing import StandardScaler\n",
    "from sklearn.decomposition import PCA\n",
    "from sklearn.tree import DecisionTreeClassifier\n",
    "\n",
    "iris = datasets.load_iris()\n",
    "X = iris.data\n",
    "y = iris.target\n",
    " \n",
    "#The data spliting is executed here\n",
    "X_train, X_test, y_train, y_test = train_test_split(X, y, test_size = 0.50)\n",
    "# importing pipes for making the Pipe flow"
   ]
  },
  {
   "cell_type": "code",
   "execution_count": 3,
   "id": "68923730",
   "metadata": {},
   "outputs": [
    {
     "name": "stdout",
     "output_type": "stream",
     "text": [
      "[Pipeline] ............... (step 1 of 3) Processing pca, total=   0.2s\n",
      "[Pipeline] ............... (step 2 of 3) Processing std, total=   0.0s\n",
      "[Pipeline] ..... (step 3 of 3) Processing decision_tree, total=   0.0s\n",
      "0.9733333333333334\n"
     ]
    }
   ],
   "source": [
    "# The sequence of pipe flow is :\n",
    "# PCA dimension is reduced by 2 >> Data gets scaled >> Classification of decission tree\n",
    "pipe = Pipeline([('pca', PCA(n_components = 2)), ('std', StandardScaler()), ('decision_tree', DecisionTreeClassifier())], verbose = True)\n",
    " \n",
    "# fitting the data in the pipeline\n",
    "pipe.fit(X_train, y_train)\n",
    " \n",
    "# scoring data\n",
    "from sklearn.metrics import accuracy_score\n",
    "print(accuracy_score(y_test, pipe.predict(X_test)))"
   ]
  }
 ],
 "metadata": {
  "kernelspec": {
   "display_name": "Python 3 (ipykernel)",
   "language": "python",
   "name": "python3"
  },
  "language_info": {
   "codemirror_mode": {
    "name": "ipython",
    "version": 3
   },
   "file_extension": ".py",
   "mimetype": "text/x-python",
   "name": "python",
   "nbconvert_exporter": "python",
   "pygments_lexer": "ipython3",
   "version": "3.9.16"
  }
 },
 "nbformat": 4,
 "nbformat_minor": 5
}
