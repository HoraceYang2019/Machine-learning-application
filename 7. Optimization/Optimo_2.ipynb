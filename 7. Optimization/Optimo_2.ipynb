{
 "cells": [
  {
   "cell_type": "markdown",
   "id": "9c9893a2-68ab-4e67-97b7-edc019a1f4d4",
   "metadata": {},
   "source": [
    "## Optimization Modelling in Python"
   ]
  },
  {
   "cell_type": "markdown",
   "id": "50ee71df-9062-48cf-a17f-52d6a064f9ad",
   "metadata": {},
   "source": [
    "https://medium.com/analytics-vidhya/optimization-modelling-in-python-scipy-pulp-and-pyomo-d392376109f4"
   ]
  },
  {
   "cell_type": "markdown",
   "id": "a1f52414-ad1e-477c-b683-3f61a79b036d",
   "metadata": {},
   "source": [
    "Let’s consider simplified transportation type problem. <br>\n",
    "We have set of customers $I = [1,2,3,4,5]$ and set of factories $J = [1,2,3]$. <br>\n",
    "Each customer has some fixed product demand $d = [80, 270, 250, 160, 180]$ and each factory has fixed production capacity $M = [500, 500, 500]$.<br>\n",
    "There are also fixed transportation costs $c_{ij}$ to deliver one unit of good from factory $j$ to customer $i$."
   ]
  },
  {
   "cell_type": "markdown",
   "id": "dfd87658-10be-41b8-b269-8c3c8f375fff",
   "metadata": {},
   "source": [
    "\\begin{equation}\n",
    "\\begin{split}\n",
    "\\text{minimize} \\quad & \\sum_{i \\in I} \\sum_{j \\in J} c_{ij} x_{ij} \\\\\n",
    "\\text{subject to} \\quad & \\sum_{j \\in J} x_{ij} = d_{ij}, \\forall i \\in I  \\\\      \n",
    "                & \\sum_{i \\in I} x_{ij} \\leq M_j, \\forall j \\in J \\\\\n",
    "                & x_{ij} \\geq 0, \\forall i \\in I, j \\in J\n",
    "\\end{split}\n",
    "\\end{equation} "
   ]
  },
  {
   "cell_type": "markdown",
   "id": "49b557e5-77c5-4496-8f6c-85f5eb6c9d0a",
   "metadata": {},
   "source": [
    "* objective function ($\\text{min total cost}$) — find such values of decision variables that total transportation cost is the lowest (linear expression in this case)\n",
    "* decision variables $x_{ij}$ — quantities of goods to be sent from factory $j$ to customer $i$ (positive real numbers)\n",
    "* constraints — total amount of goods must satisfy both customer demand and factory production capacity (equalities/inequalities that have linear expression on the left-hand side"
   ]
  },
  {
   "cell_type": "code",
   "execution_count": 1,
   "id": "e1351983-5548-452c-a040-de0d0eaf04f2",
   "metadata": {},
   "outputs": [],
   "source": [
    "import sys\n",
    "import numpy as np\n",
    "d = {1:80, 2:270, 3:250, 4:160, 5:180}  # customer demand\n",
    "M = {1:500, 2:500, 3:500}               # factory capacity\n",
    "I = [1,2,3,4,5]                         # Customers\n",
    "J = [1,2,3]                             # Factories\n",
    "cost = {(1,1):4,    (1,2):6,    (1,3):9,\n",
    "     (2,1):5,    (2,2):4,    (2,3):7,\n",
    "     (3,1):6,    (3,2):3,    (3,3):3,\n",
    "     (4,1):8,    (4,2):5,    (4,3):3,\n",
    "     (5,1):10,   (5,2):8,    (5,3):4\n",
    "   }                                    # transportation costs"
   ]
  },
  {
   "cell_type": "code",
   "execution_count": 2,
   "id": "059dba4e-419b-4d71-ba56-257d8ae468ee",
   "metadata": {},
   "outputs": [],
   "source": [
    "# pip install pyomo\n",
    "from pyomo import environ as pyo"
   ]
  },
  {
   "cell_type": "code",
   "execution_count": 3,
   "id": "f7c12c9f-656f-423d-b021-662cbf22c670",
   "metadata": {},
   "outputs": [],
   "source": [
    "# ConcreteModel is model where data values supplied at the time of the model definition. As opposite to AbstractModel where data values are supplied in data file\n",
    "model = pyo.ConcreteModel()\n",
    "\n",
    "# all iterables are to be converted into Set objects\n",
    "model.d_cust_demand = pyo.Set(initialize = d.keys())\n",
    "model.M_fact_capacity = pyo.Set(initialize = M.keys())"
   ]
  },
  {
   "cell_type": "markdown",
   "id": "25b108ae-5e39-4b0a-821b-a021150a6726",
   "metadata": {},
   "source": [
    "Basic elements of a linear programming model with Pyomo:\n",
    "* Variables: They represent the decisions to be made in the optimization problem. <br>\n",
    "In Pyomo, they are defined using the Var class.<br>\n",
    "They can be of different types: continuous (NonNegativeReals), integers (Integer), binary (Binary), etc. <br>"
   ]
  },
  {
   "cell_type": "code",
   "execution_count": 4,
   "id": "4197e86f-c575-4117-af56-68514316dfce",
   "metadata": {},
   "outputs": [],
   "source": [
    "# Parameters\n",
    "# Cartesian product of two sets creates list of tuples [((i1,j1),v1),((i2,j2),v2),...] !!!\n",
    "model.transport_cost = pyo.Param(\n",
    "    model.d_cust_demand * model.M_fact_capacity,\n",
    "    initialize = cost,\n",
    "    within = pyo.NonNegativeReals)\n",
    "\n",
    "model.cust_demand = pyo.Param(model.d_cust_demand, \n",
    "    initialize = d,\n",
    "    within = pyo.NonNegativeReals)\n",
    "\n",
    "model.fact_capacity = pyo.Param(model.M_fact_capacity, \n",
    "    initialize = M,\n",
    "    within = pyo.NonNegativeReals)"
   ]
  },
  {
   "cell_type": "markdown",
   "id": "54f1c560-bee2-4a55-93ff-c0a8cb4a38cf",
   "metadata": {},
   "source": [
    "$\\text{subject to} \\quad x_{ij} \\geq 0, \\forall i \\in I, j \\in J$"
   ]
  },
  {
   "cell_type": "markdown",
   "id": "8fa18a97-c36c-47e4-953b-d06dae6983a6",
   "metadata": {},
   "source": [
    "* Constraints: Restrictions that must be met by variables. <br>\n",
    "In Pyomo, they are defined using the Constraint class. <br>\n",
    "They are expressed as equations or inequalities. <br>"
   ]
  },
  {
   "cell_type": "code",
   "execution_count": 5,
   "id": "9ddbf792-88a9-454a-ba6a-973740e964f1",
   "metadata": {},
   "outputs": [],
   "source": [
    "model.x = pyo.Var(\n",
    "    model.d_cust_demand * model.M_fact_capacity,\n",
    "    domain = pyo.NonNegativeReals,\n",
    "    bounds = (0, max(d.values())))"
   ]
  },
  {
   "cell_type": "markdown",
   "id": "4ee53e88-c4c1-4668-8b62-ffd9d2dd881e",
   "metadata": {},
   "source": [
    "$\\text{minimize} \\quad \\sum_{i \\in I} \\sum_{j \\in J} c_{ij} x_{ij} $"
   ]
  },
  {
   "cell_type": "markdown",
   "id": "ef3b9fb9-013f-41c1-971e-4c6c4b429282",
   "metadata": {},
   "source": [
    "* Objective: Function to be optimized (maximized or minimized).<br>\n",
    "In Pyomo, it is defined using the Objective function. <br>\n",
    "It must be a linear expression <br>"
   ]
  },
  {
   "cell_type": "code",
   "execution_count": 6,
   "id": "c152e689-deed-451e-af72-c317ff8988ca",
   "metadata": {},
   "outputs": [],
   "source": [
    "model.objective = pyo.Objective(\n",
    "    expr = pyo.summation(model.transport_cost, model.x),\n",
    "    sense = pyo.minimize)"
   ]
  },
  {
   "cell_type": "markdown",
   "id": "84e8a86b-20e2-45a3-b1ae-102991a1f4c4",
   "metadata": {},
   "source": [
    "$\\text{subject to} \\quad \\sum_{j \\in J} x_{ij} = d_{ij}, \\forall i \\in I  $"
   ]
  },
  {
   "cell_type": "code",
   "execution_count": 7,
   "id": "54cf3e58-462d-47ba-9f04-72dcc4308ef5",
   "metadata": {},
   "outputs": [],
   "source": [
    "# Constraints: sum of goods == customer demand\n",
    "def meet_demand(model, customer):\n",
    "    sum_of_goods_from_factories = sum(model.x[customer,factory] for factory in model.M_fact_capacity)\n",
    "    customer_demand = model.cust_demand[customer]\n",
    "    return sum_of_goods_from_factories == customer_demand\n",
    "    \n",
    "model.Constraint1 = pyo.Constraint(model.d_cust_demand, rule = meet_demand)"
   ]
  },
  {
   "cell_type": "markdown",
   "id": "351d24fc-71fd-4121-b557-6ef7b9e31995",
   "metadata": {},
   "source": [
    "$\\text{subject to} \\quad \\sum_{i \\in I} x_{ij} \\leq M_j, \\forall j \\in J $"
   ]
  },
  {
   "cell_type": "code",
   "execution_count": 8,
   "id": "e0c9f161-3497-4bc1-86e7-0e1f44589cbd",
   "metadata": {},
   "outputs": [],
   "source": [
    "# Constraints: sum of goods <= factory capacity\n",
    "def meet_capacity(model, factory):\n",
    "    sum_of_goods_for_customers = sum(model.x[customer,factory] for customer in model.d_cust_demand)\n",
    "    factory_capacity = model.fact_capacity[factory]\n",
    "    return sum_of_goods_for_customers <= factory_capacity\n",
    "    \n",
    "model.Constraint2 = pyo.Constraint(model.M_fact_capacity, rule = meet_demand)"
   ]
  },
  {
   "cell_type": "code",
   "execution_count": 9,
   "id": "8ef9e23b-32c3-4c89-8e30-b8cd2a9e765f",
   "metadata": {},
   "outputs": [],
   "source": [
    "# conda install glpk\n",
    "solver = pyo.SolverFactory(\"glpk\")\n",
    "solution = solver.solve(model)"
   ]
  },
  {
   "cell_type": "code",
   "execution_count": 10,
   "id": "17318b8d-3696-4072-8d30-3a80abaadff2",
   "metadata": {},
   "outputs": [
    {
     "name": "stdout",
     "output_type": "stream",
     "text": [
      "Solution is feasible and optimal\n",
      "Objective function value =  3350.0\n",
      "sending quantity       80.0 from factory   1 to customer   1\n",
      "sending quantity      270.0 from factory   2 to customer   2\n",
      "sending quantity      250.0 from factory   3 to customer   3\n",
      "sending quantity      160.0 from factory   3 to customer   4\n",
      "sending quantity      180.0 from factory   3 to customer   5\n"
     ]
    }
   ],
   "source": [
    "from pyomo.opt import SolverStatus, TerminationCondition\n",
    "if (solution.solver.status == SolverStatus.ok) and (solution.solver.termination_condition == TerminationCondition.optimal):\n",
    "    print(\"Solution is feasible and optimal\")\n",
    "    print(\"Objective function value = \", model.objective())\n",
    "elif solution.solver.termination_condition == TerminationCondition.infeasible:\n",
    "    print (\"Failed to find solution.\")\n",
    "else:\n",
    "    # something else is wrong\n",
    "    print(str(solution.solver))\n",
    "assignments = model.x.get_values().items()\n",
    "EPS = 1.e-6\n",
    "for (customer,factory),x in sorted(assignments):\n",
    "    if x > EPS:\n",
    "        print(\"sending quantity %10s from factory %3s to customer %3s\" % (x, factory, customer))"
   ]
  }
 ],
 "metadata": {
  "kernelspec": {
   "display_name": "Python 3 (ipykernel)",
   "language": "python",
   "name": "python3"
  },
  "language_info": {
   "codemirror_mode": {
    "name": "ipython",
    "version": 3
   },
   "file_extension": ".py",
   "mimetype": "text/x-python",
   "name": "python",
   "nbconvert_exporter": "python",
   "pygments_lexer": "ipython3",
   "version": "3.11.7"
  }
 },
 "nbformat": 4,
 "nbformat_minor": 5
}
