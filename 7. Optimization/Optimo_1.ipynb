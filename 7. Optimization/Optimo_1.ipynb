{
 "cells": [
  {
   "cell_type": "code",
   "execution_count": 1,
   "id": "d1e3d719-04b8-4938-8cd2-daaabd5b9707",
   "metadata": {},
   "outputs": [],
   "source": [
    "# https://towardsdatascience.com/linear-programming-optimization-foundations-2f12770f66ca\n",
    "import pulp"
   ]
  },
  {
   "cell_type": "code",
   "execution_count": 2,
   "id": "af01b4db-d3cd-4f98-b773-b05d07b6c44c",
   "metadata": {},
   "outputs": [
    {
     "name": "stderr",
     "output_type": "stream",
     "text": [
      "C:\\Users\\hao\\anaconda3\\envs\\STH-py3-11\\Lib\\site-packages\\pulp\\pulp.py:1298: UserWarning: Spaces are not permitted in the name. Converted to '_'\n",
      "  warnings.warn(\"Spaces are not permitted in the name. Converted to '_'\")\n"
     ]
    }
   ],
   "source": [
    "# Create the LP problem\n",
    "lp_problem = pulp.LpProblem(\"Apples and Candy Bars\", pulp.LpMaximize)\n",
    "\n",
    "# Define the decision variables\n",
    "apples = pulp.LpVariable('apples', lowBound=0)\n",
    "candy_bars = pulp.LpVariable('candy_bars', lowBound=0)"
   ]
  },
  {
   "cell_type": "code",
   "execution_count": 3,
   "id": "8fe58028-47a3-4820-8f9b-14a88f8ad40b",
   "metadata": {},
   "outputs": [],
   "source": [
    "# Add the objective function - level of enjoyment from specific diet\n",
    "lp_problem += 1 * apples + 3 * candy_bars"
   ]
  },
  {
   "cell_type": "code",
   "execution_count": 4,
   "id": "da4ac58f-e4e3-4772-8d52-fdc8e699c720",
   "metadata": {},
   "outputs": [],
   "source": [
    "# Add calorie constraint\n",
    "lp_problem += 95 * apples + 215 * candy_bars <= 850\n",
    "# Add sugar constraint\n",
    "lp_problem += 15 * apples + 20 * candy_bars <= 100"
   ]
  },
  {
   "cell_type": "code",
   "execution_count": 5,
   "id": "0d268f32-3b51-4567-8bfb-8811a7f639fe",
   "metadata": {},
   "outputs": [
    {
     "data": {
      "text/plain": [
       "1"
      ]
     },
     "execution_count": 5,
     "metadata": {},
     "output_type": "execute_result"
    }
   ],
   "source": [
    "# Solve the problem\n",
    "lp_problem.solve()"
   ]
  },
  {
   "cell_type": "code",
   "execution_count": 6,
   "id": "b35204a2-688d-4319-8b0b-6342ac44e109",
   "metadata": {},
   "outputs": [
    {
     "name": "stdout",
     "output_type": "stream",
     "text": [
      "Status: Optimal\n",
      "apples = 0.0\n",
      "candy bars = 3.9534884\n",
      "Maximum enjoyment = 11.8604652\n"
     ]
    }
   ],
   "source": [
    "# Print the results\n",
    "print(f\"Status: {pulp.LpStatus[lp_problem.status]}\")\n",
    "print(f\"apples = {pulp.value(apples)}\")\n",
    "print(f\"candy bars = {pulp.value(candy_bars)}\")\n",
    "print(f\"Maximum enjoyment = {pulp.value(lp_problem.objective)}\")"
   ]
  }
 ],
 "metadata": {
  "kernelspec": {
   "display_name": "Python 3 (ipykernel)",
   "language": "python",
   "name": "python3"
  },
  "language_info": {
   "codemirror_mode": {
    "name": "ipython",
    "version": 3
   },
   "file_extension": ".py",
   "mimetype": "text/x-python",
   "name": "python",
   "nbconvert_exporter": "python",
   "pygments_lexer": "ipython3",
   "version": "3.11.7"
  }
 },
 "nbformat": 4,
 "nbformat_minor": 5
}
